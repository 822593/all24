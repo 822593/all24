{
 "cells": [
  {
   "cell_type": "markdown",
   "metadata": {},
   "source": [
    "# End-to-End Camera Calibration\n",
    "\n",
    "Simulated data to support the idea of end-to-end camera transformation.\n",
    "\n",
    "For details on the idea, see [the doc](https://docs.google.com/document/d/1-ikSOxtrC4HLzd8xBdokjfMbbz0616eOBsco-bDk3os/edit)"
   ]
  },
  {
   "cell_type": "markdown",
   "metadata": {},
   "source": [
    "### Imports"
   ]
  },
  {
   "cell_type": "code",
   "execution_count": 239,
   "metadata": {},
   "outputs": [],
   "source": [
    "import matplotlib.pyplot as plt\n",
    "import numpy as np\n",
    "import scipy.interpolate as interp\n",
    "import cv2\n",
    "np.set_printoptions(precision=2, floatmode='fixed', suppress=True, threshold=10)"
   ]
  },
  {
   "cell_type": "markdown",
   "metadata": {},
   "source": [
    "### Real world points"
   ]
  },
  {
   "cell_type": "code",
   "execution_count": 240,
   "metadata": {},
   "outputs": [
    {
     "name": "stdout",
     "output_type": "stream",
     "text": [
      "[[-1.00  1.00  3.00]\n",
      " [-0.50  1.00  3.00]\n",
      " [ 0.00  1.00  3.00]\n",
      " ...\n",
      " [ 0.00  3.00  3.00]\n",
      " [ 0.50  3.00  3.00]\n",
      " [ 1.00  3.00  3.00]]\n",
      "[[-1.00  3.00]\n",
      " [-0.50  3.00]\n",
      " [ 0.00  3.00]\n",
      " ...\n",
      " [ 0.00  3.00]\n",
      " [ 0.50  3.00]\n",
      " [ 1.00  3.00]]\n"
     ]
    }
   ],
   "source": [
    "# +/- 1 meter side to side, 1-3 meters up\n",
    "\n",
    "X, Y = np.meshgrid(np.linspace(-1, 1, 5), np.linspace(1, 3, 5))\n",
    "X, Y = X.reshape(1, -1), Y.reshape(1, -1)\n",
    "\n",
    "# three meters away\n",
    "Z = 3 * np.ones_like(X)\n",
    "\n",
    "XYZ = np.hstack((X.T,Y.T,Z.T))\n",
    "print(XYZ)\n",
    "XZ = np.hstack((X.T, Z.T))\n",
    "print(XZ)"
   ]
  },
  {
   "cell_type": "markdown",
   "metadata": {},
   "source": [
    "### Camera intrinsics and pose"
   ]
  },
  {
   "cell_type": "code",
   "execution_count": 241,
   "metadata": {},
   "outputs": [],
   "source": [
    "# calibration matrix\n",
    "K = np.array([[500.0, 0.0, 250.0], [0.0, 500.0, 250.0], [0.0, 0.0, 1.0]])\n",
    "\n",
    "# distortion coefficients (k1, k2, p1, p2, k3)\n",
    "# A LOT of distortion, in order to see it work.\n",
    "distCoeffs = np.array([1.5, -0.95, -0.005, 0.0025, 1.16])\n",
    "# distCoeffs = np.array([0.0, 0.0, 0.0, 0.0, 0.0])\n",
    "\n",
    "# camera rotation. in camera coords, pitch up is along x; 0.5 rad is a reasonable pitch\n",
    "rvec = np.array([0.5, 0.0, 0.0])\n",
    "# no camera translation\n",
    "tvec = np.array([0.0, 0.0, 0.0])"
   ]
  },
  {
   "cell_type": "markdown",
   "metadata": {},
   "source": [
    "### Project points to pixels, (u, v)"
   ]
  },
  {
   "cell_type": "code",
   "execution_count": 242,
   "metadata": {},
   "outputs": [
    {
     "data": {
      "image/png": "[encoded data removed]",
      "text/plain": [
       "<Figure size 640x480 with 1 Axes>"
      ]
     },
     "metadata": {},
     "output_type": "display_data"
    }
   ],
   "source": [
    "U_dist, _ = cv2.projectPoints(XYZ, rvec, tvec, K, distCoeffs)\n",
    "uv = U_dist[:, 0]\n",
    "plt.scatter(uv.T[0], uv.T[1])\n",
    "plt.gca().set_aspect('equal')\n",
    "plt.xlim(0,500)\n",
    "plt.ylim(0,500)\n",
    "plt.show()"
   ]
  },
  {
   "cell_type": "markdown",
   "metadata": {},
   "source": [
    "### Add some noise to the uv observations"
   ]
  },
  {
   "cell_type": "code",
   "execution_count": 243,
   "metadata": {},
   "outputs": [
    {
     "name": "stdout",
     "output_type": "stream",
     "text": [
      "[[ 61.11 148.66]\n",
      " [157.08 155.57]\n",
      " [253.00 155.15]\n",
      " ...\n",
      " [251.10 412.18]\n",
      " [318.88 419.11]\n",
      " [392.34 429.36]]\n"
     ]
    }
   ],
   "source": [
    "uv += np.random.normal(0, 5, uv.shape)\n",
    "print(uv) "
   ]
  },
  {
   "cell_type": "markdown",
   "metadata": {},
   "source": [
    "### Construct some simulated input"
   ]
  },
  {
   "cell_type": "code",
   "execution_count": 244,
   "metadata": {},
   "outputs": [
    {
     "name": "stdout",
     "output_type": "stream",
     "text": [
      "[[ 61.11 148.66   1.00]\n",
      " [157.08 155.57   1.00]\n",
      " [253.00 155.15   1.00]\n",
      " ...\n",
      " [251.10 412.18   3.00]\n",
      " [318.88 419.11   3.00]\n",
      " [392.34 429.36   3.00]]\n"
     ]
    }
   ],
   "source": [
    "# each row is a camera sighting\n",
    "uvY = np.hstack((uv, Y.T))\n",
    "print(uvY)"
   ]
  },
  {
   "cell_type": "markdown",
   "metadata": {},
   "source": [
    "### Predict XZ (robot-relative Translation2d)  from simulated uvY"
   ]
  },
  {
   "cell_type": "code",
   "execution_count": 245,
   "metadata": {},
   "outputs": [
    {
     "name": "stdout",
     "output_type": "stream",
     "text": [
      "[[-1.00  3.00]\n",
      " [-0.50  3.00]\n",
      " [ 0.00  3.00]\n",
      " ...\n",
      " [ 0.00  3.00]\n",
      " [ 0.50  3.00]\n",
      " [ 1.00  3.00]]\n"
     ]
    }
   ],
   "source": [
    "# XZ is XY in wpi coords.  uvY is uvZ in wpi coords\n",
    "uvy_to_xz = interp.RBFInterpolator(uvY, XZ)\n",
    "predictedXZ = uvy_to_xz(uvY)\n",
    "print(predictedXZ)"
   ]
  },
  {
   "cell_type": "markdown",
   "metadata": {},
   "source": [
    "### RBFInterpolator performance\n",
    "\n",
    "This shows about 10 us on my laptop, which is a 3 GHz i7; a Raspberry Pi 4 runs at 1.8 GHz, so say it's half as fast, so the interpolation might take 20 us.\n",
    "\n",
    "Compare this to the previous design which took 13 **milliseconds** to undistort the whole frame, and then the RoboRIO (much slower) would do the pose transformation."
   ]
  },
  {
   "cell_type": "code",
   "execution_count": 251,
   "metadata": {},
   "outputs": [
    {
     "name": "stdout",
     "output_type": "stream",
     "text": [
      "duration (sec) 0.76\n",
      "duration per prediction (microsec) 7.59\n"
     ]
    }
   ],
   "source": [
    "import time\n",
    "\n",
    "t1 = time.time()\n",
    "n = 100000\n",
    "for i in range(n):\n",
    "    uvy_to_xz([[157.08, 155.57, 1.00]])\n",
    "t2 = time.time()\n",
    "print(f\"duration (sec) {(t2 - t1):.2f}\")\n",
    "print(f\"duration per prediction (microsec) {(1e6*(t2-t1)/n):.2f}\")"
   ]
  },
  {
   "cell_type": "markdown",
   "metadata": {},
   "source": [
    "### References\n",
    "\n",
    "see more on [projectpoints](https://forum.opencv.org/t/understanding-the-functions-projectpoints-and-undistortpoints/10847)\n",
    "\n",
    "and an example of [interpolation](https://stackoverflow.com/questions/37872171/how-can-i-perform-two-dimensional-interpolation-using-scipy)"
   ]
  }
 ],
 "metadata": {
  "kernelspec": {
   "display_name": "Python 3",
   "language": "python",
   "name": "python3"
  },
  "language_info": {
   "codemirror_mode": {
    "name": "ipython",
    "version": 3
   },
   "file_extension": ".py",
   "mimetype": "text/x-python",
   "name": "python",
   "nbconvert_exporter": "python",
   "pygments_lexer": "ipython3",
   "version": "3.11.9"
  }
 },
 "nbformat": 4,
 "nbformat_minor": 2
}
